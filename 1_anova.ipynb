{
 "cells": [
  {
   "cell_type": "code",
   "execution_count": 1,
   "metadata": {},
   "outputs": [],
   "source": [
    "import pandas as pd"
   ]
  },
  {
   "cell_type": "code",
   "execution_count": 5,
   "metadata": {},
   "outputs": [],
   "source": [
    "d = pd.read_csv(\"/home/sandeep/Desktop/SoilS.csv\",usecols = ['District','Soil_pH'])"
   ]
  },
  {
   "cell_type": "code",
   "execution_count": 6,
   "metadata": {},
   "outputs": [
    {
     "data": {
      "text/html": [
       "<div>\n",
       "<style scoped>\n",
       "    .dataframe tbody tr th:only-of-type {\n",
       "        vertical-align: middle;\n",
       "    }\n",
       "\n",
       "    .dataframe tbody tr th {\n",
       "        vertical-align: top;\n",
       "    }\n",
       "\n",
       "    .dataframe thead th {\n",
       "        text-align: right;\n",
       "    }\n",
       "</style>\n",
       "<table border=\"1\" class=\"dataframe\">\n",
       "  <thead>\n",
       "    <tr style=\"text-align: right;\">\n",
       "      <th></th>\n",
       "      <th>District</th>\n",
       "      <th>Soil_pH</th>\n",
       "    </tr>\n",
       "  </thead>\n",
       "  <tbody>\n",
       "    <tr>\n",
       "      <th>0</th>\n",
       "      <td>Thrissur</td>\n",
       "      <td>6.7</td>\n",
       "    </tr>\n",
       "    <tr>\n",
       "      <th>1</th>\n",
       "      <td>Kottayam</td>\n",
       "      <td>4.3</td>\n",
       "    </tr>\n",
       "    <tr>\n",
       "      <th>2</th>\n",
       "      <td>Kollam</td>\n",
       "      <td>6.1</td>\n",
       "    </tr>\n",
       "    <tr>\n",
       "      <th>3</th>\n",
       "      <td>Kottayam</td>\n",
       "      <td>4.4</td>\n",
       "    </tr>\n",
       "    <tr>\n",
       "      <th>4</th>\n",
       "      <td>Thrissur</td>\n",
       "      <td>6.3</td>\n",
       "    </tr>\n",
       "  </tbody>\n",
       "</table>\n",
       "</div>"
      ],
      "text/plain": [
       "   District  Soil_pH\n",
       "0  Thrissur      6.7\n",
       "1  Kottayam      4.3\n",
       "2    Kollam      6.1\n",
       "3  Kottayam      4.4\n",
       "4  Thrissur      6.3"
      ]
     },
     "execution_count": 6,
     "metadata": {},
     "output_type": "execute_result"
    }
   ],
   "source": [
    "d.head(5)"
   ]
  },
  {
   "cell_type": "code",
   "execution_count": 7,
   "metadata": {},
   "outputs": [
    {
     "data": {
      "text/plain": [
       "Index(['District', 'Soil_pH'], dtype='object')"
      ]
     },
     "execution_count": 7,
     "metadata": {},
     "output_type": "execute_result"
    }
   ],
   "source": [
    "d.columns"
   ]
  },
  {
   "cell_type": "code",
   "execution_count": 12,
   "metadata": {},
   "outputs": [
    {
     "data": {
      "text/plain": [
       "<matplotlib.axes._subplots.AxesSubplot at 0x7fe631859c18>"
      ]
     },
     "execution_count": 12,
     "metadata": {},
     "output_type": "execute_result"
    },
    {
     "data": {
      "image/png": "[encoded data removed]",
      "text/plain": [
       "<Figure size 720x576 with 1 Axes>"
      ]
     },
     "metadata": {
      "needs_background": "light"
     },
     "output_type": "display_data"
    }
   ],
   "source": [
    "d.boxplot('Soil_pH', by='District', figsize=(10,8))"
   ]
  },
  {
   "cell_type": "code",
   "execution_count": null,
   "metadata": {},
   "outputs": [],
   "source": []
  },
  {
   "cell_type": "code",
   "execution_count": null,
   "metadata": {},
   "outputs": [],
   "source": [
    "# Tukey's test"
   ]
  },
  {
   "cell_type": "code",
   "execution_count": 17,
   "metadata": {},
   "outputs": [],
   "source": [
    "from statsmodels.stats.multicomp import pairwise_tukeyhsd\n",
    "from statsmodels.stats.multicomp import MultiComparison"
   ]
  },
  {
   "cell_type": "code",
   "execution_count": 19,
   "metadata": {},
   "outputs": [
    {
     "name": "stdout",
     "output_type": "stream",
     "text": [
      "    Multiple Comparison of Means - Tukey HSD, FWER=0.05     \n",
      "============================================================\n",
      "  group1     group2   meandiff p-adj   lower   upper  reject\n",
      "------------------------------------------------------------\n",
      " Alappuzha  Ernakulam   0.1643 0.8985 -0.2174  0.5459  False\n",
      " Alappuzha     Idukki  -0.0714    0.9 -0.3197  0.1768  False\n",
      " Alappuzha     Kannur   0.1027 0.8087 -0.1113  0.3167  False\n",
      " Alappuzha     Kollam   0.6383  0.001  0.4402  0.8363   True\n",
      " Alappuzha   Kottayam  -0.0386    0.9 -0.2464  0.1691  False\n",
      " Alappuzha Kozhikkode   1.0679  0.038  0.0316  2.1042   True\n",
      " Alappuzha   Thrissur  -0.1919 0.0738 -0.3928   0.009  False\n",
      " Ernakulam     Idukki  -0.2357 0.5318 -0.6082  0.1368  False\n",
      " Ernakulam     Kannur  -0.0616    0.9 -0.4121   0.289  False\n",
      " Ernakulam     Kollam    0.474  0.001  0.1329  0.8151   True\n",
      " Ernakulam   Kottayam  -0.2029 0.6185 -0.5497  0.1439  False\n",
      " Ernakulam Kozhikkode   0.9037 0.1733 -0.1692  1.9766  False\n",
      " Ernakulam   Thrissur  -0.3561 0.0351 -0.6989 -0.0134   True\n",
      "    Idukki     Kannur   0.1741 0.1288  -0.023  0.3713  False\n",
      "    Idukki     Kollam   0.7097  0.001  0.5299  0.8895   True\n",
      "    Idukki   Kottayam   0.0328    0.9 -0.1575  0.2232  False\n",
      "    Idukki Kozhikkode   1.1394 0.0189  0.1064  2.1723   True\n",
      "    Idukki   Thrissur  -0.1204 0.4841 -0.3033  0.0624  False\n",
      "    Kannur     Kollam   0.5356  0.001  0.4072  0.6639   True\n",
      "    Kannur   Kottayam  -0.1413 0.0549 -0.2841  0.0015  False\n",
      "    Kannur Kozhikkode   0.9653 0.0826   -0.06  1.9905  False\n",
      "    Kannur   Thrissur  -0.2946  0.001 -0.4272  -0.162   True\n",
      "    Kollam   Kottayam  -0.6769  0.001 -0.7945 -0.5592   True\n",
      "    Kollam Kozhikkode   0.4297    0.9 -0.5924  1.4517  False\n",
      "    Kollam   Thrissur  -0.8302  0.001 -0.9352 -0.7251   True\n",
      "  Kottayam Kozhikkode   1.1066 0.0236  0.0826  2.1305   True\n",
      "  Kottayam   Thrissur  -0.1533 0.0037 -0.2756 -0.0309   True\n",
      "Kozhikkode   Thrissur  -1.2598 0.0047 -2.2824 -0.2372   True\n",
      "------------------------------------------------------------\n"
     ]
    }
   ],
   "source": [
    "comp = MultiComparison(d['Soil_pH'], d['District'])\n",
    "tkresult = comp.tukeyhsd()\n",
    "print(tkresult)"
   ]
  },
  {
   "cell_type": "code",
   "execution_count": null,
   "metadata": {},
   "outputs": [],
   "source": []
  },
  {
   "cell_type": "code",
   "execution_count": null,
   "metadata": {},
   "outputs": [],
   "source": []
  }
 ],
 "metadata": {
  "kernelspec": {
   "display_name": "Python 3",
   "language": "python",
   "name": "python3"
  },
  "language_info": {
   "codemirror_mode": {
    "name": "ipython",
    "version": 3
   },
   "file_extension": ".py",
   "mimetype": "text/x-python",
   "name": "python",
   "nbconvert_exporter": "python",
   "pygments_lexer": "ipython3",
   "version": "3.7.3"
  }
 },
 "nbformat": 4,
 "nbformat_minor": 2
}
